{
  "cells": [
    {
      "cell_type": "markdown",
      "source": [
        "## Google Colab dep installation"
      ],
      "metadata": {
        "collapsed": false,
        "id": "366bd8917540afee"
      },
      "id": "366bd8917540afee"
    },
    {
      "cell_type": "code",
      "execution_count": 1,
      "outputs": [
        {
          "output_type": "stream",
          "name": "stdout",
          "text": [
            "Cloning into 'ModelCompression'...\n",
            "remote: Enumerating objects: 25, done.\u001b[K\n",
            "remote: Counting objects: 100% (25/25), done.\u001b[K\n",
            "remote: Compressing objects: 100% (23/23), done.\u001b[K\n",
            "remote: Total 25 (delta 4), reused 20 (delta 1), pack-reused 0\u001b[K\n",
            "Receiving objects: 100% (25/25), 10.63 KiB | 2.13 MiB/s, done.\n",
            "Resolving deltas: 100% (4/4), done.\n",
            "/content/ModelCompression/hw3\n",
            "\u001b[2K     \u001b[90m━━━━━━━━━━━━━━━━━━━━━━━━━━━━━━━━━━━━━━━━\u001b[0m \u001b[32m17.0/17.0 MB\u001b[0m \u001b[31m66.8 MB/s\u001b[0m eta \u001b[36m0:00:00\u001b[0m\n",
            "\u001b[2K     \u001b[90m━━━━━━━━━━━━━━━━━━━━━━━━━━━━━━━━━━━━━━━━\u001b[0m \u001b[32m10.8/10.8 MB\u001b[0m \u001b[31m59.1 MB/s\u001b[0m eta \u001b[36m0:00:00\u001b[0m\n",
            "\u001b[2K     \u001b[90m━━━━━━━━━━━━━━━━━━━━━━━━━━━━━━━━━━━━━━\u001b[0m \u001b[32m615.6/615.6 kB\u001b[0m \u001b[31m40.5 MB/s\u001b[0m eta \u001b[36m0:00:00\u001b[0m\n",
            "\u001b[?25h"
          ]
        }
      ],
      "source": [
        "!git clone \"https://github.com/PredelinaAsya/ModelCompression.git\"\n",
        "%cd ModelCompression/hw3\n",
        "!pip3 install -qr \"requirements.txt\""
      ],
      "metadata": {
        "colab": {
          "base_uri": "https://localhost:8080/"
        },
        "id": "96851b06328f232c",
        "outputId": "4bee0fcb-46d2-4fae-e9ee-62e5f6dfa7a8"
      },
      "id": "96851b06328f232c"
    },
    {
      "cell_type": "markdown",
      "id": "e4d87ea71e155b33",
      "metadata": {
        "collapsed": false,
        "jp-MarkdownHeadingCollapsed": true,
        "id": "e4d87ea71e155b33"
      },
      "source": [
        "## Importing deps"
      ]
    },
    {
      "cell_type": "code",
      "execution_count": 2,
      "id": "initial_id",
      "metadata": {
        "collapsed": true,
        "jupyter": {
          "outputs_hidden": true
        },
        "ExecuteTime": {
          "end_time": "2023-10-01T14:00:23.112562Z",
          "start_time": "2023-10-01T14:00:23.110201Z"
        },
        "id": "initial_id"
      },
      "outputs": [],
      "source": [
        "import numpy as np\n",
        "import pickle\n",
        "from sklearn.cluster import KMeans\n",
        "import torch\n",
        "import torch.nn as nn\n",
        "from tqdm import tqdm\n",
        "from ultralytics import YOLO"
      ]
    },
    {
      "cell_type": "markdown",
      "id": "a831ba046b9b3e4a",
      "metadata": {
        "collapsed": false,
        "jp-MarkdownHeadingCollapsed": true,
        "id": "a831ba046b9b3e4a"
      },
      "source": [
        "## Clustering"
      ]
    },
    {
      "cell_type": "code",
      "execution_count": 3,
      "outputs": [],
      "source": [
        "def apply_weight_clustering(layer, max_clusters=64, collect_data=False):\n",
        "    original_shape = layer.weight.data.shape\n",
        "    flattened_weights = layer.weight.data.cpu().numpy().flatten().reshape(-1, 1)\n",
        "    unique_weights = np.unique(flattened_weights)\n",
        "    n_clusters = min(len(unique_weights), max_clusters)\n",
        "\n",
        "    centroids, indices = None, None\n",
        "\n",
        "    if n_clusters > 1:\n",
        "        kmeans = KMeans(n_clusters=n_clusters, n_init=10, random_state=1).fit(flattened_weights)\n",
        "        new_weights = np.array([kmeans.cluster_centers_[label] for label in kmeans.labels_])\n",
        "        new_weights = new_weights.reshape(original_shape)\n",
        "        layer.weight.data = torch.Tensor(new_weights).to(layer.weight.device)\n",
        "\n",
        "        if collect_data:\n",
        "            centroids = kmeans.cluster_centers_\n",
        "            indices = kmeans.labels_\n",
        "\n",
        "    return centroids, indices"
      ],
      "metadata": {
        "ExecuteTime": {
          "end_time": "2023-10-01T13:48:39.885356Z",
          "start_time": "2023-10-01T13:48:39.878360Z"
        },
        "id": "d6db8b59ad034a25"
      },
      "id": "d6db8b59ad034a25"
    },
    {
      "cell_type": "markdown",
      "id": "825615cccfaf238c",
      "metadata": {
        "collapsed": false,
        "id": "825615cccfaf238c"
      },
      "source": [
        "Loading the model"
      ]
    },
    {
      "cell_type": "code",
      "execution_count": 6,
      "id": "ffa38ed2c3c6b2d",
      "metadata": {
        "ExecuteTime": {
          "end_time": "2023-10-01T13:48:42.099013Z",
          "start_time": "2023-10-01T13:48:42.069629Z"
        },
        "id": "ffa38ed2c3c6b2d"
      },
      "outputs": [],
      "source": [
        "model = YOLO(\"yolov8n.pt\")"
      ]
    },
    {
      "cell_type": "markdown",
      "id": "cac23a706a3786e",
      "metadata": {
        "collapsed": false,
        "id": "cac23a706a3786e"
      },
      "source": [
        "Verifying of model performance before clustering"
      ]
    },
    {
      "cell_type": "code",
      "execution_count": 6,
      "id": "2ae83bc7d2daada3",
      "metadata": {
        "ExecuteTime": {
          "end_time": "2023-10-01T13:33:52.204729Z",
          "start_time": "2023-10-01T13:33:28.298687Z"
        },
        "colab": {
          "base_uri": "https://localhost:8080/"
        },
        "id": "2ae83bc7d2daada3",
        "outputId": "89900d83-e5e3-4e82-9215-29f60f32d055"
      },
      "outputs": [
        {
          "output_type": "stream",
          "name": "stderr",
          "text": [
            "Ultralytics YOLOv8.0.190 🚀 Python-3.10.12 torch-2.0.1+cu118 CPU (Intel Xeon 2.20GHz)\n",
            "YOLOv8n summary (fused): 168 layers, 3151904 parameters, 0 gradients, 8.7 GFLOPs\n",
            "\n",
            "Dataset 'coco128.yaml' images not found ⚠️, missing path '/content/ModelCompression/hw3/datasets/coco128/images/train2017'\n",
            "Downloading https://ultralytics.com/assets/coco128.zip to '/content/ModelCompression/hw3/datasets/coco128.zip'...\n",
            "100%|██████████| 6.66M/6.66M [00:00<00:00, 12.6MB/s]\n",
            "Unzipping /content/ModelCompression/hw3/datasets/coco128.zip to /content/ModelCompression/hw3/datasets/coco128...: 100%|██████████| 263/263 [00:00<00:00, 3624.94file/s]\n",
            "Dataset download success ✅ (1.7s), saved to \u001b[1m/content/ModelCompression/hw3/datasets\u001b[0m\n",
            "\n",
            "Downloading https://ultralytics.com/assets/Arial.ttf to '/root/.config/Ultralytics/Arial.ttf'...\n",
            "100%|██████████| 755k/755k [00:00<00:00, 4.29MB/s]\n",
            "\u001b[34m\u001b[1mval: \u001b[0mScanning /content/ModelCompression/hw3/datasets/coco128/labels/train2017... 126 images, 2 backgrounds, 0 corrupt: 100%|██████████| 128/128 [00:00<00:00, 1673.06it/s]\n",
            "\u001b[34m\u001b[1mval: \u001b[0mNew cache created: /content/ModelCompression/hw3/datasets/coco128/labels/train2017.cache\n",
            "                 Class     Images  Instances      Box(P          R      mAP50  mAP50-95): 100%|██████████| 8/8 [00:37<00:00,  4.63s/it]\n",
            "                   all        128        929      0.654      0.516      0.599      0.447\n",
            "                person        128        254      0.815      0.657      0.761       0.54\n",
            "               bicycle        128          6      0.647      0.333      0.318      0.225\n",
            "                   car        128         46      0.741      0.217      0.271      0.173\n",
            "            motorcycle        128          5      0.686       0.88      0.898      0.685\n",
            "              airplane        128          6      0.737      0.667      0.879      0.634\n",
            "                   bus        128          7      0.499      0.714      0.707      0.651\n",
            "                 train        128          3        0.5      0.667      0.671      0.571\n",
            "                 truck        128         12      0.878      0.333      0.461      0.285\n",
            "                  boat        128          6      0.259      0.167       0.36      0.176\n",
            "         traffic light        128         14      0.599      0.143      0.191      0.138\n",
            "             stop sign        128          2          1      0.965      0.995      0.697\n",
            "                 bench        128          9       0.73      0.444      0.558      0.341\n",
            "                  bird        128         16      0.856      0.746      0.839      0.487\n",
            "                   cat        128          4      0.869          1      0.995      0.865\n",
            "                   dog        128          9      0.591      0.778      0.729      0.525\n",
            "                 horse        128          2      0.523          1      0.995      0.647\n",
            "              elephant        128         17      0.925      0.765      0.835      0.641\n",
            "                  bear        128          1       0.62          1      0.995      0.995\n",
            "                 zebra        128          4      0.853          1      0.995      0.965\n",
            "               giraffe        128          9      0.809      0.941      0.951      0.736\n",
            "              backpack        128          6      0.616      0.333       0.39      0.238\n",
            "              umbrella        128         18      0.916      0.444      0.606      0.419\n",
            "               handbag        128         19          0          0      0.157     0.0836\n",
            "                   tie        128          7      0.817      0.644      0.674      0.479\n",
            "              suitcase        128          4      0.556       0.64       0.77      0.586\n",
            "               frisbee        128          5      0.566        0.8      0.759      0.688\n",
            "                  skis        128          1      0.419          1      0.497      0.199\n",
            "             snowboard        128          7          1      0.621      0.848      0.491\n",
            "           sports ball        128          6      0.608      0.274      0.452      0.264\n",
            "                  kite        128         10      0.798      0.396      0.508      0.176\n",
            "          baseball bat        128          4      0.669       0.25      0.354        0.2\n",
            "        baseball glove        128          7      0.634      0.429      0.429      0.295\n",
            "            skateboard        128          5      0.798        0.6        0.6       0.44\n",
            "         tennis racket        128          7      0.721      0.379      0.478      0.311\n",
            "                bottle        128         18      0.499      0.387       0.35      0.198\n",
            "            wine glass        128         16      0.774      0.312      0.527      0.313\n",
            "                   cup        128         36      0.579       0.25      0.399      0.281\n",
            "                  fork        128          6      0.569      0.167      0.244      0.183\n",
            "                 knife        128         16      0.801        0.5      0.598      0.356\n",
            "                 spoon        128         22      0.661      0.178      0.321      0.177\n",
            "                  bowl        128         28      0.733      0.589      0.628      0.507\n",
            "                banana        128          1          0          0     0.0995     0.0335\n",
            "              sandwich        128          2      0.246        0.5      0.308      0.294\n",
            "                orange        128          4          1          0      0.995      0.636\n",
            "              broccoli        128         11      0.374      0.182      0.246        0.2\n",
            "                carrot        128         24      0.595      0.292      0.552      0.334\n",
            "               hot dog        128          2      0.596          1      0.828      0.796\n",
            "                 pizza        128          5      0.659          1      0.995      0.859\n",
            "                 donut        128         14      0.657          1      0.933      0.844\n",
            "                  cake        128          4      0.557          1      0.945      0.845\n",
            "                 chair        128         35      0.509      0.486      0.454      0.249\n",
            "                 couch        128          6      0.532        0.5      0.734      0.566\n",
            "          potted plant        128         14      0.766      0.643      0.709      0.464\n",
            "                   bed        128          3          1      0.626       0.72      0.637\n",
            "          dining table        128         13      0.318      0.462      0.468      0.369\n",
            "                toilet        128          2      0.633        0.5      0.828      0.796\n",
            "                    tv        128          2      0.455      0.865      0.745      0.696\n",
            "                laptop        128          3          1          0      0.695      0.556\n",
            "                 mouse        128          2          1          0     0.0559    0.00559\n",
            "                remote        128          8      0.849        0.5      0.588      0.495\n",
            "            cell phone        128          8          0          0     0.0396     0.0247\n",
            "             microwave        128          3      0.686      0.667      0.863      0.753\n",
            "                  oven        128          5      0.465        0.4      0.418      0.313\n",
            "                  sink        128          6      0.386      0.167       0.18      0.126\n",
            "          refrigerator        128          5      0.727        0.4      0.591      0.441\n",
            "                  book        128         29      0.749      0.103      0.355      0.175\n",
            "                 clock        128          9      0.745      0.778      0.847      0.721\n",
            "                  vase        128          2      0.492          1      0.828      0.795\n",
            "              scissors        128          1          1          0      0.199     0.0597\n",
            "            teddy bear        128         21      0.879      0.345      0.615      0.394\n",
            "            toothbrush        128          5      0.661        0.6      0.673      0.422\n",
            "Speed: 6.5ms preprocess, 265.2ms inference, 0.0ms loss, 3.0ms postprocess per image\n",
            "Results saved to \u001b[1mruns/detect/val\u001b[0m\n"
          ]
        }
      ],
      "source": [
        "metrics = model.val(data=\"coco128.yaml\")"
      ]
    },
    {
      "cell_type": "markdown",
      "id": "70d99821641e1b68",
      "metadata": {
        "collapsed": false,
        "id": "70d99821641e1b68"
      },
      "source": [
        "Applying clustering weights to each convolutional layer"
      ]
    },
    {
      "cell_type": "code",
      "execution_count": 7,
      "id": "ba58ea545a6f829c",
      "metadata": {
        "ExecuteTime": {
          "end_time": "2023-10-01T13:50:00.146272Z",
          "start_time": "2023-10-01T13:48:45.477728Z"
        },
        "colab": {
          "base_uri": "https://localhost:8080/"
        },
        "id": "ba58ea545a6f829c",
        "outputId": "dc1fcd78-9e0f-4d57-fd2a-054537082b1e"
      },
      "outputs": [
        {
          "output_type": "stream",
          "name": "stderr",
          "text": [
            "Processing layers: 100%|██████████| 64/64 [06:46<00:00,  6.35s/it]\n"
          ]
        }
      ],
      "source": [
        "centroid_dict = {}\n",
        "index_dict = {}\n",
        "\n",
        "total = sum(1 for layer in model.modules() if isinstance(layer, nn.Conv2d))\n",
        "with tqdm(total=total, desc=\"Processing layers\", dynamic_ncols=True) as pbar:\n",
        "    for name, layer in model.named_modules():\n",
        "        if isinstance(layer, nn.Conv2d):\n",
        "            centroids, indices = apply_weight_clustering(layer, collect_data=True)\n",
        "            if centroids is not None and indices is not None:\n",
        "                centroid_dict[name] = centroids.tolist()\n",
        "                index_dict[name] = indices.tolist()\n",
        "            pbar.update(1)"
      ]
    },
    {
      "cell_type": "markdown",
      "source": [
        "Saving centroids and indices"
      ],
      "metadata": {
        "collapsed": false,
        "id": "1b336223490575d5"
      },
      "id": "1b336223490575d5"
    },
    {
      "cell_type": "code",
      "execution_count": 8,
      "outputs": [],
      "source": [
        "with open('centroids.pkl', 'wb') as f:\n",
        "    pickle.dump(centroid_dict, f)\n",
        "\n",
        "with open('indices.pkl', 'wb') as f:\n",
        "    pickle.dump(index_dict, f)"
      ],
      "metadata": {
        "ExecuteTime": {
          "end_time": "2023-10-01T13:50:48.731913Z",
          "start_time": "2023-10-01T13:50:48.690977Z"
        },
        "id": "635801c6ce6eabad"
      },
      "id": "635801c6ce6eabad"
    },
    {
      "cell_type": "markdown",
      "id": "cfe0e12549e20289",
      "metadata": {
        "collapsed": false,
        "id": "cfe0e12549e20289"
      },
      "source": [
        "Verifying of model performance after clustering"
      ]
    },
    {
      "cell_type": "code",
      "execution_count": 9,
      "id": "baaa07edc01870d3",
      "metadata": {
        "ExecuteTime": {
          "end_time": "2023-10-01T13:32:58.817086Z",
          "start_time": "2023-10-01T13:32:35.124927Z"
        },
        "colab": {
          "base_uri": "https://localhost:8080/"
        },
        "id": "baaa07edc01870d3",
        "outputId": "12b7e7c8-b59a-4379-e5a1-1498581a01d0"
      },
      "outputs": [
        {
          "output_type": "stream",
          "name": "stderr",
          "text": [
            "Ultralytics YOLOv8.0.190 🚀 Python-3.10.12 torch-2.0.1+cu118 CPU (Intel Xeon 2.20GHz)\n",
            "YOLOv8n summary (fused): 168 layers, 3151904 parameters, 0 gradients, 8.7 GFLOPs\n",
            "\n",
            "Dataset 'coco128.yaml' images not found ⚠️, missing path '/content/ModelCompression/hw3/datasets/coco128/images/train2017'\n",
            "Downloading https://ultralytics.com/assets/coco128.zip to '/content/ModelCompression/hw3/datasets/coco128.zip'...\n",
            "100%|██████████| 6.66M/6.66M [00:00<00:00, 65.4MB/s]\n",
            "Unzipping /content/ModelCompression/hw3/datasets/coco128.zip to /content/ModelCompression/hw3/datasets/coco128...: 100%|██████████| 263/263 [00:00<00:00, 2328.57file/s]\n",
            "Dataset download success ✅ (0.9s), saved to \u001b[1m/content/ModelCompression/hw3/datasets\u001b[0m\n",
            "\n",
            "Downloading https://ultralytics.com/assets/Arial.ttf to '/root/.config/Ultralytics/Arial.ttf'...\n",
            "100%|██████████| 755k/755k [00:00<00:00, 13.0MB/s]\n",
            "\u001b[34m\u001b[1mval: \u001b[0mScanning /content/ModelCompression/hw3/datasets/coco128/labels/train2017... 126 images, 2 backgrounds, 0 corrupt: 100%|██████████| 128/128 [00:00<00:00, 1629.91it/s]\n",
            "\u001b[34m\u001b[1mval: \u001b[0mNew cache created: /content/ModelCompression/hw3/datasets/coco128/labels/train2017.cache\n",
            "                 Class     Images  Instances      Box(P          R      mAP50  mAP50-95): 100%|██████████| 8/8 [00:44<00:00,  5.51s/it]\n",
            "                   all        128        929      0.617      0.515       0.58      0.434\n",
            "                person        128        254      0.748      0.689      0.757      0.532\n",
            "               bicycle        128          6      0.502      0.333      0.308      0.272\n",
            "                   car        128         46       0.65      0.217      0.267      0.168\n",
            "            motorcycle        128          5      0.669      0.811      0.881      0.674\n",
            "              airplane        128          6      0.514      0.532       0.68      0.562\n",
            "                   bus        128          7      0.553      0.714      0.674      0.619\n",
            "                 train        128          3      0.522      0.667       0.67       0.57\n",
            "                 truck        128         12          1      0.293      0.435      0.243\n",
            "                  boat        128          6      0.254      0.167      0.299      0.134\n",
            "         traffic light        128         14      0.619      0.143      0.192      0.138\n",
            "             stop sign        128          2      0.859          1      0.995      0.697\n",
            "                 bench        128          9      0.695       0.51      0.527      0.312\n",
            "                  bird        128         16      0.778       0.75      0.783      0.419\n",
            "                   cat        128          4      0.785          1      0.995      0.834\n",
            "                   dog        128          9      0.569      0.735      0.677      0.505\n",
            "                 horse        128          2      0.564          1      0.995      0.746\n",
            "              elephant        128         17      0.856      0.647      0.819      0.612\n",
            "                  bear        128          1      0.599          1      0.995      0.995\n",
            "                 zebra        128          4       0.84          1      0.995      0.964\n",
            "               giraffe        128          9      0.654      0.889      0.907      0.727\n",
            "              backpack        128          6      0.654      0.333      0.429      0.258\n",
            "              umbrella        128         18       0.68      0.444      0.599      0.382\n",
            "               handbag        128         19      0.406     0.0428       0.24      0.114\n",
            "                   tie        128          7      0.655      0.571      0.597      0.414\n",
            "              suitcase        128          4      0.536        0.5      0.717      0.579\n",
            "               frisbee        128          5      0.519        0.8      0.732      0.662\n",
            "                  skis        128          1      0.363          1      0.497      0.199\n",
            "             snowboard        128          7      0.795      0.714      0.754       0.46\n",
            "           sports ball        128          6      0.613      0.333      0.378      0.216\n",
            "                  kite        128         10      0.702        0.4      0.565      0.191\n",
            "          baseball bat        128          4      0.451       0.25      0.397      0.193\n",
            "        baseball glove        128          7      0.622      0.429      0.429      0.315\n",
            "            skateboard        128          5      0.819        0.6      0.601      0.403\n",
            "         tennis racket        128          7      0.397      0.381      0.434       0.29\n",
            "                bottle        128         18      0.352      0.333      0.281      0.179\n",
            "            wine glass        128         16      0.655      0.312      0.463      0.297\n",
            "                   cup        128         36      0.524       0.25      0.396      0.276\n",
            "                  fork        128          6      0.331      0.167       0.21      0.169\n",
            "                 knife        128         16      0.604        0.5      0.518      0.336\n",
            "                 spoon        128         22      0.601      0.207      0.327      0.161\n",
            "                  bowl        128         28      0.745      0.571      0.665      0.501\n",
            "                banana        128          1          0          0     0.0995     0.0433\n",
            "              sandwich        128          2      0.414        0.5      0.414      0.382\n",
            "                orange        128          4          1      0.342      0.995      0.679\n",
            "              broccoli        128         11      0.366      0.182      0.227      0.188\n",
            "                carrot        128         24      0.675      0.417      0.554      0.335\n",
            "               hot dog        128          2      0.651      0.953      0.828      0.796\n",
            "                 pizza        128          5      0.584          1      0.995      0.859\n",
            "                 donut        128         14      0.613          1      0.943      0.836\n",
            "                  cake        128          4      0.563          1      0.912      0.805\n",
            "                 chair        128         35      0.425      0.514      0.484      0.264\n",
            "                 couch        128          6      0.542      0.599       0.66      0.482\n",
            "          potted plant        128         14      0.741      0.643      0.689      0.451\n",
            "                   bed        128          3      0.553      0.333      0.576      0.505\n",
            "          dining table        128         13      0.356      0.615       0.48      0.404\n",
            "                toilet        128          2      0.603        0.5      0.828      0.745\n",
            "                    tv        128          2      0.581      0.744      0.828       0.73\n",
            "                laptop        128          3          1          0       0.71      0.564\n",
            "                 mouse        128          2          1          0       0.13      0.013\n",
            "                remote        128          8      0.808        0.5      0.578      0.498\n",
            "            cell phone        128          8          1          0     0.0593     0.0331\n",
            "             microwave        128          3        0.6          1       0.83      0.705\n",
            "                  oven        128          5      0.422        0.4      0.445      0.331\n",
            "                  sink        128          6      0.365      0.167      0.182      0.138\n",
            "          refrigerator        128          5      0.723        0.4      0.429      0.356\n",
            "                  book        128         29      0.433      0.069      0.288      0.129\n",
            "                 clock        128          9      0.713      0.778      0.797      0.668\n",
            "                  vase        128          2      0.567          1      0.828      0.795\n",
            "              scissors        128          1          1          0     0.0995     0.0294\n",
            "            teddy bear        128         21      0.768      0.286      0.546      0.361\n",
            "            toothbrush        128          5      0.524        0.4      0.658      0.389\n",
            "Speed: 10.7ms preprocess, 314.4ms inference, 0.0ms loss, 3.9ms postprocess per image\n",
            "Results saved to \u001b[1mruns/detect/val\u001b[0m\n"
          ]
        }
      ],
      "source": [
        "metrics = model.val(data=\"coco128.yaml\")"
      ]
    }
  ],
  "metadata": {
    "kernelspec": {
      "display_name": "Python 3 (ipykernel)",
      "language": "python",
      "name": "python3"
    },
    "language_info": {
      "codemirror_mode": {
        "name": "ipython",
        "version": 3
      },
      "file_extension": ".py",
      "mimetype": "text/x-python",
      "name": "python",
      "nbconvert_exporter": "python",
      "pygments_lexer": "ipython3",
      "version": "3.10.9"
    },
    "colab": {
      "provenance": [],
      "collapsed_sections": [
        "366bd8917540afee",
        "e4d87ea71e155b33",
        "a831ba046b9b3e4a"
      ]
    }
  },
  "nbformat": 4,
  "nbformat_minor": 5
}