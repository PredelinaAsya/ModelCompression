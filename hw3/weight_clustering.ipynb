{
 "cells": [
  {
   "cell_type": "markdown",
   "id": "366bd8917540afee",
   "metadata": {
    "collapsed": false,
    "jp-MarkdownHeadingCollapsed": true,
    "jupyter": {
     "outputs_hidden": false
    }
   },
   "source": [
    "## Google Colab dep installation"
   ]
  },
  {
   "cell_type": "code",
   "execution_count": null,
   "id": "96851b06328f232c",
   "metadata": {
    "collapsed": false,
    "jupyter": {
     "outputs_hidden": false
    }
   },
   "outputs": [],
   "source": [
    "!git clone \"https://github.com/PredelinaAsya/ModelCompression.git\"\n",
    "%cd ModelCompression/hw3\n",
    "!pip3 install -qr \"requirements.txt\""
   ]
  },
  {
   "cell_type": "markdown",
   "id": "e4d87ea71e155b33",
   "metadata": {
    "collapsed": false,
    "jp-MarkdownHeadingCollapsed": true,
    "jupyter": {
     "outputs_hidden": false
    }
   },
   "source": [
    "## Importing deps"
   ]
  },
  {
   "cell_type": "code",
   "execution_count": 175,
   "id": "initial_id",
   "metadata": {
    "ExecuteTime": {
     "end_time": "2023-10-01T14:48:09.277840Z",
     "start_time": "2023-10-01T14:48:09.274410Z"
    },
    "collapsed": true,
    "jupyter": {
     "outputs_hidden": true
    }
   },
   "outputs": [],
   "source": [
    "import numpy as np\n",
    "import pickle\n",
    "from sklearn.cluster import KMeans\n",
    "import torch\n",
    "import torch.nn as nn\n",
    "from tqdm import tqdm\n",
    "from ultralytics import YOLO"
   ]
  },
  {
   "cell_type": "markdown",
   "id": "a831ba046b9b3e4a",
   "metadata": {
    "collapsed": false,
    "jp-MarkdownHeadingCollapsed": true,
    "jupyter": {
     "outputs_hidden": false
    }
   },
   "source": [
    "## Clustering"
   ]
  },
  {
   "cell_type": "code",
   "execution_count": 176,
   "id": "d6db8b59ad034a25",
   "metadata": {
    "ExecuteTime": {
     "end_time": "2023-10-01T14:48:12.592834Z",
     "start_time": "2023-10-01T14:48:12.589987Z"
    },
    "collapsed": false,
    "jupyter": {
     "outputs_hidden": false
    }
   },
   "outputs": [],
   "source": [
    "def apply_weight_clustering(layer, max_clusters=64, collect_data=False):\n",
    "    original_shape = layer.weight.data.shape\n",
    "    flattened_weights = layer.weight.data.cpu().numpy().flatten().reshape(-1, 1)\n",
    "    unique_weights = np.unique(flattened_weights)\n",
    "    n_clusters = min(len(unique_weights), max_clusters)\n",
    "    dynamic_n_init = min(10, n_clusters // 2)\n",
    "\n",
    "    centroids, indices = None, None\n",
    "\n",
    "    if n_clusters > 1:\n",
    "        kmeans = KMeans(n_clusters=n_clusters, n_init=dynamic_n_init, random_state=0).fit(flattened_weights)\n",
    "        new_weights = np.array([kmeans.cluster_centers_[label] for label in kmeans.labels_])\n",
    "        new_weights = new_weights.reshape(original_shape)\n",
    "        layer.weight.data = torch.Tensor(new_weights).to(layer.weight.device)\n",
    "\n",
    "        if collect_data:\n",
    "            centroids = kmeans.cluster_centers_\n",
    "            indices = kmeans.labels_\n",
    "\n",
    "    return centroids, indices"
   ]
  },
  {
   "cell_type": "markdown",
   "id": "825615cccfaf238c",
   "metadata": {
    "collapsed": false,
    "jupyter": {
     "outputs_hidden": false
    }
   },
   "source": [
    "Loading the model"
   ]
  },
  {
   "cell_type": "code",
   "execution_count": 177,
   "id": "ffa38ed2c3c6b2d",
   "metadata": {
    "ExecuteTime": {
     "end_time": "2023-10-01T14:48:14.192754Z",
     "start_time": "2023-10-01T14:48:14.147366Z"
    },
    "collapsed": false,
    "jupyter": {
     "outputs_hidden": false
    }
   },
   "outputs": [],
   "source": [
    "model = YOLO(\"yolov8n.pt\")"
   ]
  },
  {
   "cell_type": "markdown",
   "id": "cac23a706a3786e",
   "metadata": {
    "collapsed": false,
    "jupyter": {
     "outputs_hidden": false
    }
   },
   "source": [
    "Verifying of model performance before clustering"
   ]
  },
  {
   "cell_type": "code",
   "execution_count": 167,
   "id": "2ae83bc7d2daada3",
   "metadata": {
    "ExecuteTime": {
     "end_time": "2023-10-01T13:33:52.204729Z",
     "start_time": "2023-10-01T13:33:28.298687Z"
    },
    "collapsed": false,
    "jupyter": {
     "outputs_hidden": false
    }
   },
   "outputs": [
    {
     "name": "stderr",
     "output_type": "stream",
     "text": [
      "Ultralytics YOLOv8.0.190 🚀 Python-3.10.9 torch-2.0.1 CPU (Apple M1 Pro)\n",
      "YOLOv8n summary (fused): 168 layers, 3151904 parameters, 0 gradients, 8.7 GFLOPs\n",
      "\u001b[34m\u001b[1mval: \u001b[0mScanning /Users/danielkopecky/DataspellProjects/datasets/coco128/labels/train2017.cache... 126 images, 2 backgrounds, 0 corrupt: 100%|██████████| 128/128 [00:00<?, ?it/s]\n",
      "                 Class     Images  Instances      Box(P          R      mAP50  mAP50-95): 100%|██████████| 8/8 [00:20<00:00,  2.56s/it]\n",
      "                   all        128        929       0.64      0.537      0.605      0.446\n",
      "                person        128        254      0.797      0.677      0.764      0.538\n",
      "               bicycle        128          6      0.514      0.333      0.315      0.264\n",
      "                   car        128         46      0.813      0.217      0.273      0.168\n",
      "            motorcycle        128          5      0.687      0.887      0.898      0.685\n",
      "              airplane        128          6       0.82      0.833      0.927      0.675\n",
      "                   bus        128          7      0.491      0.714      0.728      0.671\n",
      "                 train        128          3      0.534      0.667      0.706      0.604\n",
      "                 truck        128         12          1      0.332      0.473      0.297\n",
      "                  boat        128          6      0.226      0.167      0.316      0.134\n",
      "         traffic light        128         14      0.734        0.2      0.202      0.139\n",
      "             stop sign        128          2          1      0.992      0.995      0.701\n",
      "                 bench        128          9      0.839      0.582       0.62      0.365\n",
      "                  bird        128         16      0.921      0.728      0.864       0.51\n",
      "                   cat        128          4      0.875          1      0.995      0.791\n",
      "                   dog        128          9      0.603      0.889      0.785      0.585\n",
      "                 horse        128          2      0.597          1      0.995      0.518\n",
      "              elephant        128         17      0.849      0.765        0.9      0.679\n",
      "                  bear        128          1      0.593          1      0.995      0.995\n",
      "                 zebra        128          4      0.848          1      0.995      0.965\n",
      "               giraffe        128          9       0.72          1      0.951      0.722\n",
      "              backpack        128          6      0.589      0.333      0.376      0.232\n",
      "              umbrella        128         18      0.804        0.5      0.643      0.414\n",
      "               handbag        128         19      0.424     0.0526      0.165     0.0889\n",
      "                   tie        128          7      0.804      0.714      0.674      0.476\n",
      "              suitcase        128          4      0.635      0.883      0.745      0.534\n",
      "               frisbee        128          5      0.675        0.8      0.759      0.688\n",
      "                  skis        128          1      0.567          1      0.995      0.497\n",
      "             snowboard        128          7      0.742      0.714      0.747        0.5\n",
      "           sports ball        128          6      0.716      0.433      0.485      0.278\n",
      "                  kite        128         10      0.817       0.45      0.569      0.184\n",
      "          baseball bat        128          4      0.551       0.25      0.353      0.175\n",
      "        baseball glove        128          7      0.624      0.429      0.429      0.293\n",
      "            skateboard        128          5      0.846        0.6        0.6       0.41\n",
      "         tennis racket        128          7      0.726      0.387      0.487       0.33\n",
      "                bottle        128         18      0.448      0.389      0.376      0.208\n",
      "            wine glass        128         16      0.743      0.362      0.584      0.333\n",
      "                   cup        128         36       0.58      0.278      0.404       0.29\n",
      "                  fork        128          6      0.527      0.167      0.246      0.184\n",
      "                 knife        128         16      0.564        0.5       0.59       0.36\n",
      "                 spoon        128         22      0.597      0.182      0.328       0.19\n",
      "                  bowl        128         28      0.648      0.643      0.618      0.491\n",
      "                banana        128          1          0          0      0.124     0.0379\n",
      "              sandwich        128          2      0.249        0.5      0.308      0.308\n",
      "                orange        128          4          1       0.31      0.995      0.623\n",
      "              broccoli        128         11      0.374      0.182      0.249      0.203\n",
      "                carrot        128         24      0.648      0.458      0.572      0.362\n",
      "               hot dog        128          2      0.351      0.553      0.745      0.721\n",
      "                 pizza        128          5      0.644          1      0.995      0.843\n",
      "                 donut        128         14      0.657          1       0.94      0.864\n",
      "                  cake        128          4      0.618          1      0.945      0.845\n",
      "                 chair        128         35      0.506      0.514      0.442      0.239\n",
      "                 couch        128          6      0.463        0.5      0.706      0.555\n",
      "          potted plant        128         14       0.65      0.643      0.711      0.472\n",
      "                   bed        128          3      0.698      0.667      0.789      0.625\n",
      "          dining table        128         13      0.432      0.615      0.485      0.366\n",
      "                toilet        128          2      0.615        0.5      0.695      0.676\n",
      "                    tv        128          2      0.373       0.62      0.745      0.696\n",
      "                laptop        128          3          1          0      0.451      0.361\n",
      "                 mouse        128          2          1          0     0.0625    0.00625\n",
      "                remote        128          8      0.843        0.5      0.605      0.529\n",
      "            cell phone        128          8          0          0     0.0549     0.0393\n",
      "             microwave        128          3      0.435      0.667      0.806      0.718\n",
      "                  oven        128          5      0.412        0.4      0.339       0.27\n",
      "                  sink        128          6       0.35      0.167      0.182      0.129\n",
      "          refrigerator        128          5      0.589        0.4      0.604      0.452\n",
      "                  book        128         29      0.629      0.103      0.346      0.178\n",
      "                 clock        128          9      0.788       0.83      0.875       0.74\n",
      "                  vase        128          2      0.376          1      0.828      0.795\n",
      "              scissors        128          1          1          0      0.249     0.0746\n",
      "            teddy bear        128         21      0.877      0.333      0.591      0.394\n",
      "            toothbrush        128          5      0.743        0.6      0.638      0.374\n",
      "Speed: 0.8ms preprocess, 155.3ms inference, 0.0ms loss, 1.0ms postprocess per image\n",
      "Results saved to \u001b[1m/Users/danielkopecky/DataspellProjects/ModelCompression/runs/detect/val32\u001b[0m\n"
     ]
    }
   ],
   "source": [
    "metrics = model.val(data=\"coco128.yaml\")"
   ]
  },
  {
   "cell_type": "markdown",
   "id": "70d99821641e1b68",
   "metadata": {
    "collapsed": false,
    "jupyter": {
     "outputs_hidden": false
    }
   },
   "source": [
    "Applying clustering weights to each convolutional layer"
   ]
  },
  {
   "cell_type": "code",
   "execution_count": 178,
   "id": "ba58ea545a6f829c",
   "metadata": {
    "ExecuteTime": {
     "end_time": "2023-10-01T14:49:44.659720Z",
     "start_time": "2023-10-01T14:48:31.914745Z"
    },
    "collapsed": false,
    "jupyter": {
     "outputs_hidden": false
    }
   },
   "outputs": [
    {
     "name": "stderr",
     "output_type": "stream",
     "text": [
      "Processing layers: 100%|██████████| 64/64 [01:12<00:00,  1.14s/it]\n"
     ]
    }
   ],
   "source": [
    "centroid_dict = {}\n",
    "index_dict = {}\n",
    "\n",
    "total = sum(1 for layer in model.modules() if isinstance(layer, nn.Conv2d))\n",
    "with tqdm(total=total, desc=\"Processing layers\", dynamic_ncols=True) as pbar:\n",
    "    for name, layer in model.named_modules():\n",
    "        if isinstance(layer, nn.Conv2d):\n",
    "            centroids, indices = apply_weight_clustering(layer, collect_data=True)\n",
    "            if centroids is not None and indices is not None:\n",
    "                centroid_dict[name] = centroids.tolist()\n",
    "                index_dict[name] = indices.tolist()\n",
    "            pbar.update(1)"
   ]
  },
  {
   "cell_type": "markdown",
   "id": "1b336223490575d5",
   "metadata": {
    "collapsed": false,
    "jupyter": {
     "outputs_hidden": false
    }
   },
   "source": [
    "Saving centroids and indices"
   ]
  },
  {
   "cell_type": "code",
   "execution_count": 179,
   "id": "635801c6ce6eabad",
   "metadata": {
    "ExecuteTime": {
     "end_time": "2023-10-01T14:49:56.486589Z",
     "start_time": "2023-10-01T14:49:56.448868Z"
    },
    "collapsed": false,
    "jupyter": {
     "outputs_hidden": false
    }
   },
   "outputs": [],
   "source": [
    "with open('centroids.pkl', 'wb') as f:\n",
    "    pickle.dump(centroid_dict, f)\n",
    "\n",
    "with open('indices.pkl', 'wb') as f:\n",
    "    pickle.dump(index_dict, f)"
   ]
  },
  {
   "cell_type": "markdown",
   "id": "cfe0e12549e20289",
   "metadata": {
    "collapsed": false,
    "jupyter": {
     "outputs_hidden": false
    }
   },
   "source": [
    "Verifying of model performance after clustering"
   ]
  },
  {
   "cell_type": "code",
   "execution_count": 180,
   "id": "baaa07edc01870d3",
   "metadata": {
    "ExecuteTime": {
     "end_time": "2023-10-01T14:50:23.016797Z",
     "start_time": "2023-10-01T14:49:58.764059Z"
    },
    "collapsed": false,
    "jupyter": {
     "outputs_hidden": false
    }
   },
   "outputs": [
    {
     "name": "stderr",
     "output_type": "stream",
     "text": [
      "Ultralytics YOLOv8.0.190 🚀 Python-3.10.9 torch-2.0.1 CPU (Apple M1 Pro)\n",
      "YOLOv8n summary (fused): 168 layers, 3151904 parameters, 0 gradients, 8.7 GFLOPs\n",
      "\u001b[34m\u001b[1mval: \u001b[0mScanning /Users/danielkopecky/DataspellProjects/datasets/coco128/labels/train2017.cache... 126 images, 2 backgrounds, 0 corrupt: 100%|██████████| 128/128 [00:00<?, ?it/s]\n",
      "                 Class     Images  Instances      Box(P          R      mAP50  mAP50-95): 100%|██████████| 8/8 [00:20<00:00,  2.61s/it]\n",
      "                   all        128        929      0.588      0.532      0.589      0.437\n",
      "                person        128        254        0.7      0.673      0.753      0.529\n",
      "               bicycle        128          6      0.532      0.333      0.304      0.219\n",
      "                   car        128         46      0.715      0.217      0.264       0.17\n",
      "            motorcycle        128          5      0.671      0.819      0.938       0.72\n",
      "              airplane        128          6      0.672      0.667      0.893      0.678\n",
      "                   bus        128          7      0.531      0.714      0.722      0.641\n",
      "                 train        128          3      0.531      0.667      0.775      0.644\n",
      "                 truck        128         12      0.728      0.449      0.468      0.278\n",
      "                  boat        128          6      0.224      0.167       0.26     0.0952\n",
      "         traffic light        128         14      0.535      0.214      0.222      0.141\n",
      "             stop sign        128          2          1      0.988      0.995      0.669\n",
      "                 bench        128          9      0.602      0.556      0.597       0.38\n",
      "                  bird        128         16      0.852       0.72      0.846      0.513\n",
      "                   cat        128          4      0.827          1      0.995      0.818\n",
      "                   dog        128          9      0.479      0.667      0.733      0.544\n",
      "                 horse        128          2      0.461          1      0.995      0.746\n",
      "              elephant        128         17      0.817      0.791      0.904      0.666\n",
      "                  bear        128          1       0.55          1      0.995      0.995\n",
      "                 zebra        128          4      0.835          1      0.995      0.958\n",
      "               giraffe        128          9      0.746      0.979      0.943      0.717\n",
      "              backpack        128          6      0.382      0.333      0.421      0.261\n",
      "              umbrella        128         18      0.713        0.5      0.657      0.412\n",
      "               handbag        128         19      0.373     0.0526      0.187     0.0923\n",
      "                   tie        128          7      0.786      0.714      0.679      0.469\n",
      "              suitcase        128          4      0.567      0.667      0.756      0.582\n",
      "               frisbee        128          5      0.606        0.8       0.72      0.625\n",
      "                  skis        128          1       0.24          1      0.497      0.249\n",
      "             snowboard        128          7      0.828      0.691      0.747      0.447\n",
      "           sports ball        128          6      0.548      0.333      0.512      0.329\n",
      "                  kite        128         10      0.522        0.3      0.397      0.175\n",
      "          baseball bat        128          4      0.282       0.25      0.202     0.0988\n",
      "        baseball glove        128          7      0.583      0.429       0.43      0.293\n",
      "            skateboard        128          5      0.678        0.6        0.6       0.43\n",
      "         tennis racket        128          7      0.508      0.286      0.454      0.329\n",
      "                bottle        128         18      0.374        0.5      0.345      0.198\n",
      "            wine glass        128         16      0.526        0.5      0.558      0.336\n",
      "                   cup        128         36      0.558      0.316      0.395      0.276\n",
      "                  fork        128          6      0.369      0.167      0.246      0.205\n",
      "                 knife        128         16       0.42      0.625      0.566      0.324\n",
      "                 spoon        128         22      0.598      0.182      0.376      0.229\n",
      "                  bowl        128         28       0.66      0.643      0.628      0.496\n",
      "                banana        128          1          0          0      0.111     0.0356\n",
      "              sandwich        128          2          0          0      0.249      0.224\n",
      "                orange        128          4          1      0.365      0.895      0.487\n",
      "              broccoli        128         11      0.397      0.182      0.243      0.198\n",
      "                carrot        128         24      0.656      0.583      0.618      0.379\n",
      "               hot dog        128          2      0.554          1      0.663      0.622\n",
      "                 pizza        128          5      0.717          1      0.995      0.829\n",
      "                 donut        128         14       0.63          1      0.929      0.841\n",
      "                  cake        128          4       0.58          1      0.945      0.805\n",
      "                 chair        128         35      0.355      0.457      0.375      0.212\n",
      "                 couch        128          6      0.553      0.625      0.694      0.524\n",
      "          potted plant        128         14      0.597      0.643      0.681      0.475\n",
      "                   bed        128          3      0.925      0.667      0.741      0.631\n",
      "          dining table        128         13      0.357      0.615      0.468       0.36\n",
      "                toilet        128          2      0.581        0.5      0.595      0.535\n",
      "                    tv        128          2      0.424      0.772      0.745      0.646\n",
      "                laptop        128          3          1          0      0.705      0.564\n",
      "                 mouse        128          2          1          0     0.0713    0.00713\n",
      "                remote        128          8      0.808        0.5      0.635       0.55\n",
      "            cell phone        128          8          1          0     0.0875     0.0561\n",
      "             microwave        128          3      0.317          1      0.863      0.735\n",
      "                  oven        128          5      0.405        0.4      0.438      0.323\n",
      "                  sink        128          6      0.364      0.167      0.217      0.152\n",
      "          refrigerator        128          5       0.66        0.4      0.542      0.421\n",
      "                  book        128         29      0.333      0.103      0.265      0.127\n",
      "                 clock        128          9      0.718      0.778      0.855      0.687\n",
      "                  vase        128          2      0.321          1      0.828      0.795\n",
      "              scissors        128          1          1          0      0.249     0.0746\n",
      "            teddy bear        128         21      0.776      0.331      0.546      0.362\n",
      "            toothbrush        128          5      0.596        0.2       0.62      0.361\n",
      "Speed: 1.0ms preprocess, 158.0ms inference, 0.0ms loss, 1.0ms postprocess per image\n",
      "Results saved to \u001b[1m/Users/danielkopecky/DataspellProjects/ModelCompression/runs/detect/val33\u001b[0m\n"
     ]
    }
   ],
   "source": [
    "metrics = model.val(data=\"coco128.yaml\")"
   ]
  }
 ],
 "metadata": {
  "kernelspec": {
   "display_name": "Python 3 (ipykernel)",
   "language": "python",
   "name": "python3"
  },
  "language_info": {
   "codemirror_mode": {
    "name": "ipython",
    "version": 3
   },
   "file_extension": ".py",
   "mimetype": "text/x-python",
   "name": "python",
   "nbconvert_exporter": "python",
   "pygments_lexer": "ipython3",
   "version": "3.10.9"
  }
 },
 "nbformat": 4,
 "nbformat_minor": 5
}
